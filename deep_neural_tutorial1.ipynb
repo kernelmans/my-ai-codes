{
  "nbformat": 4,
  "nbformat_minor": 0,
  "metadata": {
    "colab": {
      "provenance": [],
      "authorship_tag": "ABX9TyOqERP5hea0bpBhD1xobpIQ",
      "include_colab_link": true
    },
    "kernelspec": {
      "name": "python3",
      "display_name": "Python 3"
    },
    "language_info": {
      "name": "python"
    }
  },
  "cells": [
    {
      "cell_type": "markdown",
      "metadata": {
        "id": "view-in-github",
        "colab_type": "text"
      },
      "source": [
        "<a href=\"https://colab.research.google.com/github/kernelmans/my-ai-codes/blob/main/deep_neural_tutorial1.ipynb\" target=\"_parent\"><img src=\"https://colab.research.google.com/assets/colab-badge.svg\" alt=\"Open In Colab\"/></a>"
      ]
    },
    {
      "cell_type": "code",
      "execution_count": 1,
      "metadata": {
        "colab": {
          "base_uri": "https://localhost:8080/"
        },
        "id": "oUQNpoPL0pBy",
        "outputId": "0b85062e-1c4a-4d29-d5ab-103966ea5ad5"
      },
      "outputs": [
        {
          "output_type": "stream",
          "name": "stdout",
          "text": [
            "[4.8, 1.21, 2.385]\n"
          ]
        }
      ],
      "source": [
        "# 1. Entrées du neurone (4 valeurs d'entrée)\n",
        "inputs = [1, 2, 3, 2.5]\n",
        "\n",
        "#  2. Poids de 3 neurones (chacun avec 4 poids = un par entrée)\n",
        "weights = [\n",
        "    [0.2, 0.8, -0.5, 1.0],        # Poids du neurone 1\n",
        "    [0.5, -0.91, 0.26, -0.5],     # Poids du neurone 2\n",
        "    [-0.26, -0.27, 0.17, 0.87]    # Poids du neurone 3\n",
        "]\n",
        "\n",
        "#  3. Biais pour chaque neurone\n",
        "biases = [2, 3, 0.5]\n",
        "\n",
        "# 4. Liste vide pour stocker les sorties de chaque neurone\n",
        "layer_outputs = []\n",
        "\n",
        "# 5. Pour chaque neurone (on parcourt ses poids et son biais en même temps)\n",
        "for neuron_weights, neuron_bias in zip(weights, biases):\n",
        "\n",
        "    # 5.1. On commence avec une sortie = 0\n",
        "    neuron_output = 0\n",
        "\n",
        "    # 5.2. On parcourt chaque entrée avec son poids associé\n",
        "    for n_input, weight in zip(inputs, neuron_weights):\n",
        "        # On multiplie l'entrée par le poids et on ajoute au total\n",
        "        neuron_output += n_input * weight\n",
        "\n",
        "    # 5.3. Une fois toutes les entrées traitées, on ajoute le biais\n",
        "    neuron_output += neuron_bias\n",
        "\n",
        "    # 🧾 5.4. On ajoute la sortie finale du neurone dans la liste\n",
        "    layer_outputs.append(neuron_output)\n",
        "\n",
        "#  6. Affichage final : la sortie de la couche entière\n",
        "print(layer_outputs)"
      ]
    }
  ]
}